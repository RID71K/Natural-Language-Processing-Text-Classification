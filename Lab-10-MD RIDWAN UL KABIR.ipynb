{
 "cells": [
  {
   "cell_type": "code",
   "execution_count": 11,
   "id": "2221ea13",
   "metadata": {},
   "outputs": [
    {
     "name": "stderr",
     "output_type": "stream",
     "text": [
      "[nltk_data] Downloading package punkt to\n",
      "[nltk_data]     /Users/drmdshowkatkabir/nltk_data...\n",
      "[nltk_data]   Package punkt is already up-to-date!\n",
      "[nltk_data] Downloading package wordnet to\n",
      "[nltk_data]     /Users/drmdshowkatkabir/nltk_data...\n",
      "[nltk_data]   Package wordnet is already up-to-date!\n",
      "[nltk_data] Downloading package omw-1.4 to\n",
      "[nltk_data]     /Users/drmdshowkatkabir/nltk_data...\n",
      "[nltk_data]   Package omw-1.4 is already up-to-date!\n"
     ]
    },
    {
     "name": "stdout",
     "output_type": "stream",
     "text": [
      "Accuracy: 0.765\n",
      "Precision: 0.7913043478260869\n",
      "Recall: 0.7982456140350878\n",
      "F1 Score: 0.794759825327511\n",
      "\n",
      "Model Evaluation Summary:\n",
      "Accuracy: 0.765 - This indicates that the model correctly predicts 76.5% of the total cases. Accuracy is a good measure when the target classes are well balanced.\n",
      "\n",
      "Precision: 0.791 - This shows that when the model predicts a review to be positive, it is correct 79.1% of the time. Precision is particularly important if the cost of false positives is high.\n",
      "\n",
      "Recall: 0.798 - This means that the model is able to identify 79.8% of all actual positive cases. High recall is crucial when it's important to capture as many positives as possible.\n",
      "\n",
      "F1 Score: 0.795 - The F1 score combines precision and recall into a single metric by taking their harmonic mean. An F1 score of 0.795 suggests a balanced performance between precision and recall, which is beneficial in cases where both false positives and false negatives are costly.\n"
     ]
    }
   ],
   "source": [
    "import pandas as pd\n",
    "import nltk\n",
    "from nltk.tokenize import word_tokenize\n",
    "from nltk.stem import PorterStemmer\n",
    "from nltk.stem import WordNetLemmatizer\n",
    "from sklearn.model_selection import train_test_split\n",
    "from sklearn.feature_extraction.text import CountVectorizer\n",
    "from sklearn.ensemble import RandomForestClassifier\n",
    "from sklearn.metrics import accuracy_score, precision_score, recall_score, f1_score\n",
    "\n",
    "\n",
    "nltk.download('punkt')  \n",
    "nltk.download('wordnet')  \n",
    "nltk.download('omw-1.4')  \n",
    "\n",
    "\n",
    "df = pd.read_csv('musical1.tsv', sep='\\t')\n",
    "\n",
    "# Question 1: Tokenize the given dataset reviews\n",
    "df['tokens'] = df['Review'].apply(word_tokenize)\n",
    "\n",
    "# Question 2: Perform stemming for the tokens of the reviews\n",
    "stemmer = PorterStemmer()\n",
    "df['stemmed'] = df['tokens'].apply(lambda x: [stemmer.stem(token) for token in x])\n",
    "\n",
    "# Question 3: Perform lemmatization for the stemmed tokens\n",
    "lemmatizer = WordNetLemmatizer()\n",
    "df['lemmatized'] = df['stemmed'].apply(lambda x: [lemmatizer.lemmatize(token) for token in x])\n",
    "\n",
    "\n",
    "df['processed_text'] = df['lemmatized'].apply(lambda x: ' '.join(x))\n",
    "\n",
    "\n",
    "X_train, X_test, y_train, y_test = train_test_split(df['processed_text'], df['Score'], test_size=0.2, random_state=42)\n",
    "\n",
    "\n",
    "vectorizer = CountVectorizer()\n",
    "X_train_vec = vectorizer.fit_transform(X_train)\n",
    "X_test_vec = vectorizer.transform(X_test)\n",
    "\n",
    "# Question 4: Build the Random Forest classifier\n",
    "rf_classifier = RandomForestClassifier(random_state=42)\n",
    "rf_classifier.fit(X_train_vec, y_train)\n",
    "\n",
    "\n",
    "y_pred = rf_classifier.predict(X_test_vec)\n",
    "\n",
    "# Question 5: Evaluate the model by finding its accuracy, precision, recall, and F1-score\n",
    "accuracy = accuracy_score(y_test, y_pred)\n",
    "precision = precision_score(y_test, y_pred)\n",
    "recall = recall_score(y_test, y_pred)\n",
    "f1 = f1_score(y_test, y_pred)\n",
    "\n",
    "\n",
    "print(f\"Accuracy: {accuracy}\")\n",
    "print(f\"Precision: {precision}\")\n",
    "print(f\"Recall: {recall}\")\n",
    "print(f\"F1 Score: {f1}\\n\")\n",
    "\n",
    "\n",
    "print(\"Model Evaluation Summary:\")\n",
    "print(f\"Accuracy: {accuracy:.3f} - This indicates that the model correctly predicts {accuracy * 100:.1f}% of the total cases. Accuracy is a good measure when the target classes are well balanced.\\n\")\n",
    "print(f\"Precision: {precision:.3f} - This shows that when the model predicts a review to be positive, it is correct {precision * 100:.1f}% of the time. Precision is particularly important if the cost of false positives is high.\\n\")\n",
    "print(f\"Recall: {recall:.3f} - This means that the model is able to identify {recall * 100:.1f}% of all actual positive cases. High recall is crucial when it's important to capture as many positives as possible.\\n\")\n",
    "print(f\"F1 Score: {f1:.3f} - The F1 score combines precision and recall into a single metric by taking their harmonic mean. An F1 score of {f1:.3f} suggests a balanced performance between precision and recall, which is beneficial in cases where both false positives and false negatives are costly.\")\n"
   ]
  },
  {
   "cell_type": "code",
   "execution_count": null,
   "id": "21df0e51",
   "metadata": {},
   "outputs": [],
   "source": []
  },
  {
   "cell_type": "code",
   "execution_count": null,
   "id": "08f1be39",
   "metadata": {},
   "outputs": [],
   "source": []
  }
 ],
 "metadata": {
  "kernelspec": {
   "display_name": "Python 3",
   "language": "python",
   "name": "python3"
  },
  "language_info": {
   "codemirror_mode": {
    "name": "ipython",
    "version": 3
   },
   "file_extension": ".py",
   "mimetype": "text/x-python",
   "name": "python",
   "nbconvert_exporter": "python",
   "pygments_lexer": "ipython3",
   "version": "3.8.8"
  }
 },
 "nbformat": 4,
 "nbformat_minor": 5
}
